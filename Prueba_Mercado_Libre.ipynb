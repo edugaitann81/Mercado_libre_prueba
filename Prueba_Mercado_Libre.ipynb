{
 "cells": [
  {
   "cell_type": "raw",
   "id": "1ce9630e",
   "metadata": {},
   "source": [
    "# \"\"\"\n",
    "Exercise description\n",
    "--------------------\n",
    "\n",
    "Description:\n",
    "In the context of Mercadolibre's Marketplace an algorithm is needed to predict if an item listed in the markeplace \n",
    "is new or used.\n",
    "\n",
    "Your tasks involve the data analysis, designing, processing and modeling of a machine learning solution \n",
    "to predict if an item is new or used and then evaluate the model over held-out test data.\n",
    "\n",
    "To assist in that task a dataset is provided in `MLA_100k_checked_v3.jsonlines` and a function to read that dataset \n",
    "in `build_dataset`.\n",
    "\n",
    "For the evaluation, you will use the accuracy metric in order to get a result of 0.86 as minimum. \n",
    "Additionally, you will have to choose an appropiate secondary metric and also elaborate an argument \n",
    "on why that metric was chosen.\n",
    "\n",
    "The deliverables are:\n",
    "--The file, including all the code needed to define and evaluate a model.\n",
    "--A document with an explanation on the criteria applied to choose the features, \n",
    "  the proposed secondary metric and the performance achieved on that metrics. \n",
    "  Optionally, you can deliver an EDA analysis with other formart like .ipynb\n",
    "\"\"\""
   ]
  },
  {
   "cell_type": "code",
   "execution_count": 3,
   "id": "81183478",
   "metadata": {},
   "outputs": [],
   "source": [
    "import pandas as pd\n",
    "import os\n",
    "import numpy as np\n",
    "from datetime import datetime\n",
    "import chardet\n",
    "import json\n",
    "from itertools import islice\n",
    "import pyarrow as pa\n",
    "import matplotlib.pyplot as plt\n",
    "import sklearn\n",
    "from sklearn.model_selection import train_test_split # Con esta puedo abrir la muestra \n",
    "\n",
    "import lightgbm as lgb\n"
   ]
  },
  {
   "cell_type": "code",
   "execution_count": null,
   "id": "beeda6c3",
   "metadata": {},
   "outputs": [],
   "source": [
    "# Ruta Input\n",
    "dir_path = 'C:/Users/PERSONAL/Documents/EduGM/ANALYTICS/BD_Modelos/'\n",
    "input_path = os.path.join(dir_path, 'Nueva_Data')\n",
    "\n",
    "Entrevistas 2024\\Mercado Libre\\Usados-20240207T184417Z-001\n",
    "\n",
    "# Rutas Archivos Output\n",
    "ruta_out = 'C:/Users/PERSONAL/Documents/EduGM/ANALYTICS/BD_Modelos/output'\n",
    "\n",
    "print(input_path)\n",
    "print(ruta_out)"
   ]
  },
  {
   "cell_type": "code",
   "execution_count": null,
   "id": "61fe18f7",
   "metadata": {},
   "outputs": [],
   "source": [
    "\n",
    "# You can safely assume that `build_dataset` is correctly implemented\n",
    "def build_dataset():\n",
    "    data = [json.loads(x) for x in open(\"MLA_100k_checked_v3.jsonlines\")]\n",
    "    target = lambda x: x.get(\"condition\")\n",
    "    N = -10000\n",
    "    X_train = data[:N]\n",
    "    X_test = data[N:]\n",
    "    y_train = [target(x) for x in X_train]\n",
    "    y_test = [target(x) for x in X_test]\n",
    "    for x in X_test:\n",
    "        del x[\"condition\"]\n",
    "    return X_train, y_train, X_test, y_test\n",
    "\n",
    "\n",
    "if __name__ == \"__main__\":\n",
    "    print(\"Loading dataset...\")\n",
    "    # Train and test data following sklearn naming conventions\n",
    "    # X_train (X_test too) is a list of dicts with information about each item.\n",
    "    # y_train (y_test too) contains the labels to be predicted (new or used).\n",
    "    # The label of X_train[i] is y_train[i].\n",
    "    # The label of X_test[i] is y_test[i].\n",
    "    X_train, y_train, X_test, y_test = build_dataset()\n",
    "\n",
    "    # Insert your code below this line:\n",
    "    # ...\n"
   ]
  },
  {
   "cell_type": "code",
   "execution_count": null,
   "id": "58d29151",
   "metadata": {},
   "outputs": [],
   "source": []
  }
 ],
 "metadata": {
  "kernelspec": {
   "display_name": "Python 3 (ipykernel)",
   "language": "python",
   "name": "python3"
  },
  "language_info": {
   "codemirror_mode": {
    "name": "ipython",
    "version": 3
   },
   "file_extension": ".py",
   "mimetype": "text/x-python",
   "name": "python",
   "nbconvert_exporter": "python",
   "pygments_lexer": "ipython3",
   "version": "3.11.4"
  }
 },
 "nbformat": 4,
 "nbformat_minor": 5
}
